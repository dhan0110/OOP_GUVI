{
  "nbformat": 4,
  "nbformat_minor": 0,
  "metadata": {
    "colab": {
      "provenance": [],
      "authorship_tag": "ABX9TyN/p/EHXNU42eue62rt/Rzp"
    },
    "kernelspec": {
      "name": "python3",
      "display_name": "Python 3"
    },
    "language_info": {
      "name": "python"
    }
  },
  "cells": [
    {
      "cell_type": "code",
      "execution_count": null,
      "metadata": {
        "id": "xNDqLDfQcN7v"
      },
      "outputs": [],
      "source": [
        "class Employee:\n",
        "\n",
        "  EmployeeCount = 0                 # Class variable. This is common to all the objects defined for this class.\n",
        "\n",
        "  def generateEmpId(self):\n",
        "    Employee.EmployeeCount += 1\n",
        "    return Employee.EmployeeCount\n",
        "\n",
        "  def __init__(self, name, age,gender, dept):  # Constructor for Employee class\n",
        "    self.name = name\n",
        "    self.age = age\n",
        "    self.gender = gender\n",
        "    self.dept = dept\n",
        "    self.empId = self.generateEmpId()\n",
        "    print(\"Employee Created Successfully!\")\n",
        "\n",
        "  # Method to disply Employee's Details\n",
        "\n",
        "  def get_employee_details(self):\n",
        "    print('Employee: ',self.name, 'belongs to dept: ', self.dept, 'with EmployeeID:', self.empId)"
      ]
    },
    {
      "cell_type": "code",
      "source": [
        "class TechEmployee(Employee):\n",
        "  pass"
      ],
      "metadata": {
        "id": "m3d6Vhg6cYcI"
      },
      "execution_count": null,
      "outputs": []
    },
    {
      "cell_type": "code",
      "source": [
        "class NonTechEmployee(Employee):\n",
        "  def __init__(self, name, age, gender, dept, experience):  # Constructor for my derived class\n",
        "    super().__init__(name, age, gender, dept)\n",
        "    self.experience = experience"
      ],
      "metadata": {
        "id": "0su_eyvtc_Be"
      },
      "execution_count": null,
      "outputs": []
    },
    {
      "cell_type": "code",
      "source": [
        "class ContractEmployee(Employee):\n",
        "\n",
        "  EmployeeCount = 0           # Redefine the inherited parent class variable.\n",
        "\n",
        "  def __init__(self, name, age, gender, dept, experience, contract_months):  # Constructor for my derived class\n",
        "    super().__init__(name, age, gender, dept)\n",
        "    self.experience = experience\n",
        "    self.contract_months = contract_months\n",
        "    self.empId = ContractEmployee.EmployeeCount + 1\n",
        "    ContractEmployee.EmployeeCount += 1\n",
        "\n",
        "  def get_employee_details(self):  # Redefine the inherited parent class method. Function overriding\n",
        "    print('Contract Employee: ',self.name,'belongs to department: ', self.dept, 'for : ', self.contract_months,'months')\n"
      ],
      "metadata": {
        "id": "O1U8fMLSczWa"
      },
      "execution_count": null,
      "outputs": []
    },
    {
      "cell_type": "code",
      "source": [
        "emp1 = Employee('Anna',24,'F','Marketing')\n",
        "emp2 = TechEmployee('Mark',30,'M','Engineering')\n",
        "emp3 = NonTechEmployee('Erika',29,'F','HR',5)\n",
        "emp4 = ContractEmployee('John', 20, 'M', 'Logistics', 0, 12)"
      ],
      "metadata": {
        "colab": {
          "base_uri": "https://localhost:8080/"
        },
        "id": "k_Sg-aOmc82b",
        "outputId": "a9059728-c97f-43d9-f95d-da7ae27f24ea"
      },
      "execution_count": null,
      "outputs": [
        {
          "output_type": "stream",
          "name": "stdout",
          "text": [
            "Employee Created Successfully!\n",
            "Employee Created Successfully!\n",
            "Employee Created Successfully!\n",
            "Employee Created Successfully!\n"
          ]
        }
      ]
    },
    {
      "cell_type": "code",
      "source": [
        "emp1.name"
      ],
      "metadata": {
        "colab": {
          "base_uri": "https://localhost:8080/",
          "height": 36
        },
        "id": "ki_MRvIiw6qI",
        "outputId": "5c484df0-7126-4d39-c5a5-f4a0dd22ffe9"
      },
      "execution_count": null,
      "outputs": [
        {
          "output_type": "execute_result",
          "data": {
            "text/plain": [
              "'Anna'"
            ],
            "application/vnd.google.colaboratory.intrinsic+json": {
              "type": "string"
            }
          },
          "metadata": {},
          "execution_count": 6
        }
      ]
    },
    {
      "cell_type": "code",
      "source": [
        "print(emp1.EmployeeCount,emp2.EmployeeCount,emp3.EmployeeCount,emp4.EmployeeCount)"
      ],
      "metadata": {
        "colab": {
          "base_uri": "https://localhost:8080/"
        },
        "id": "RMq0d5i7eVle",
        "outputId": "185d72aa-1516-4b18-8577-308c2d941cb7"
      },
      "execution_count": null,
      "outputs": [
        {
          "output_type": "stream",
          "name": "stdout",
          "text": [
            "4 4 4 1\n"
          ]
        }
      ]
    },
    {
      "cell_type": "code",
      "source": [
        "emp1.get_employee_details()\n",
        "emp2.get_employee_details()\n",
        "emp3.get_employee_details()\n",
        "emp4.get_employee_details()"
      ],
      "metadata": {
        "colab": {
          "base_uri": "https://localhost:8080/"
        },
        "id": "EN65hyBwebeM",
        "outputId": "5d41ca6e-ff1a-4f8a-e45c-aa493e15d5c8"
      },
      "execution_count": null,
      "outputs": [
        {
          "output_type": "stream",
          "name": "stdout",
          "text": [
            "Employee:  Anna belongs to dept:  Marketing with EmployeeID: 1\n",
            "Employee:  Mark belongs to dept:  Engineering with EmployeeID: 2\n",
            "Employee:  Erika belongs to dept:  HR with EmployeeID: 3\n",
            "Contract Employee:  John belongs to department:  Logistics for :  12 months\n"
          ]
        }
      ]
    },
    {
      "cell_type": "code",
      "source": [
        "def sum(num1,num2):\n",
        "  return num1+num2"
      ],
      "metadata": {
        "id": "ClBI07-3e_Xw"
      },
      "execution_count": null,
      "outputs": []
    },
    {
      "cell_type": "code",
      "source": [
        "def sum(num1,num2,num3):\n",
        "  return num1+num2+num3"
      ],
      "metadata": {
        "id": "LxQ7BZZastya"
      },
      "execution_count": null,
      "outputs": []
    },
    {
      "cell_type": "code",
      "source": [
        "sum(1,2)      # This will throw an error - as the latest definition has 3 parameters"
      ],
      "metadata": {
        "colab": {
          "base_uri": "https://localhost:8080/",
          "height": 146
        },
        "id": "CdEQ3KhksxkX",
        "outputId": "71d406f4-b803-49b6-d2dd-db276403798a"
      },
      "execution_count": null,
      "outputs": [
        {
          "output_type": "error",
          "ename": "TypeError",
          "evalue": "sum() missing 1 required positional argument: 'num3'",
          "traceback": [
            "\u001b[0;31m---------------------------------------------------------------------------\u001b[0m",
            "\u001b[0;31mTypeError\u001b[0m                                 Traceback (most recent call last)",
            "\u001b[0;32m<ipython-input-12-2d53f75017ee>\u001b[0m in \u001b[0;36m<cell line: 1>\u001b[0;34m()\u001b[0m\n\u001b[0;32m----> 1\u001b[0;31m \u001b[0msum\u001b[0m\u001b[0;34m(\u001b[0m\u001b[0;36m1\u001b[0m\u001b[0;34m,\u001b[0m\u001b[0;36m2\u001b[0m\u001b[0;34m)\u001b[0m      \u001b[0;31m# This will throw an error - as the latest definition has 3 parameters\u001b[0m\u001b[0;34m\u001b[0m\u001b[0;34m\u001b[0m\u001b[0m\n\u001b[0m",
            "\u001b[0;31mTypeError\u001b[0m: sum() missing 1 required positional argument: 'num3'"
          ]
        }
      ]
    },
    {
      "cell_type": "code",
      "source": [
        "# Python does not support function overloading inside a class\n",
        "class c1:\n",
        "  # No constructor for this class.\n",
        "  #def __init__(self):\n",
        "   # pass\n",
        "  def sum(self, num1,num2):\n",
        "    return num1+num2\n",
        "  def sum(self, num1,num2,num3):\n",
        "     return num1+num2+num3"
      ],
      "metadata": {
        "id": "cLfGMzHlszFw"
      },
      "execution_count": null,
      "outputs": []
    },
    {
      "cell_type": "code",
      "source": [
        "calc = c1()"
      ],
      "metadata": {
        "id": "p536r_iTtNhK"
      },
      "execution_count": null,
      "outputs": []
    },
    {
      "cell_type": "code",
      "source": [
        "calc.sum(1,2)"
      ],
      "metadata": {
        "colab": {
          "base_uri": "https://localhost:8080/",
          "height": 146
        },
        "id": "PfqbW_x8tPM5",
        "outputId": "2164952c-8441-429f-d9e3-4e9559804ec8"
      },
      "execution_count": null,
      "outputs": [
        {
          "output_type": "error",
          "ename": "TypeError",
          "evalue": "c1.sum() missing 1 required positional argument: 'num3'",
          "traceback": [
            "\u001b[0;31m---------------------------------------------------------------------------\u001b[0m",
            "\u001b[0;31mTypeError\u001b[0m                                 Traceback (most recent call last)",
            "\u001b[0;32m<ipython-input-18-b28f4418d04a>\u001b[0m in \u001b[0;36m<cell line: 1>\u001b[0;34m()\u001b[0m\n\u001b[0;32m----> 1\u001b[0;31m \u001b[0mcalc\u001b[0m\u001b[0;34m.\u001b[0m\u001b[0msum\u001b[0m\u001b[0;34m(\u001b[0m\u001b[0;36m1\u001b[0m\u001b[0;34m,\u001b[0m\u001b[0;36m2\u001b[0m\u001b[0;34m)\u001b[0m\u001b[0;34m\u001b[0m\u001b[0;34m\u001b[0m\u001b[0m\n\u001b[0m",
            "\u001b[0;31mTypeError\u001b[0m: c1.sum() missing 1 required positional argument: 'num3'"
          ]
        }
      ]
    },
    {
      "cell_type": "code",
      "source": [
        "1+2          # Operator overloading"
      ],
      "metadata": {
        "colab": {
          "base_uri": "https://localhost:8080/"
        },
        "id": "lVvYRxqltRRo",
        "outputId": "6d1336f9-0b06-4c68-f3ab-bf744d083d0d"
      },
      "execution_count": null,
      "outputs": [
        {
          "output_type": "execute_result",
          "data": {
            "text/plain": [
              "3"
            ]
          },
          "metadata": {},
          "execution_count": 19
        }
      ]
    },
    {
      "cell_type": "code",
      "source": [
        "'1'+'2'       # Operator overloading - same operator - works differently on different data types"
      ],
      "metadata": {
        "colab": {
          "base_uri": "https://localhost:8080/",
          "height": 36
        },
        "id": "1KzHKxFktlcE",
        "outputId": "a7b9c769-45b4-43e8-9274-08b14d44d1f7"
      },
      "execution_count": null,
      "outputs": [
        {
          "output_type": "execute_result",
          "data": {
            "text/plain": [
              "'12'"
            ],
            "application/vnd.google.colaboratory.intrinsic+json": {
              "type": "string"
            }
          },
          "metadata": {},
          "execution_count": 20
        }
      ]
    },
    {
      "cell_type": "code",
      "source": [
        "def fun(a=0,b=0,c=0,d=0):    # can we use default values to mimic overloading? yes. it is more like runtime overloading\n",
        "  return a+b+c+d"
      ],
      "metadata": {
        "id": "Nmj6VUsotohq"
      },
      "execution_count": null,
      "outputs": []
    },
    {
      "cell_type": "code",
      "source": [
        "fun(3,1)"
      ],
      "metadata": {
        "colab": {
          "base_uri": "https://localhost:8080/"
        },
        "id": "EBp924_wvXQm",
        "outputId": "a8f3372c-505c-4ddd-d0ca-46ea886c8614"
      },
      "execution_count": null,
      "outputs": [
        {
          "output_type": "execute_result",
          "data": {
            "text/plain": [
              "4"
            ]
          },
          "metadata": {},
          "execution_count": 22
        }
      ]
    },
    {
      "cell_type": "code",
      "source": [
        "fun(1,2,3,4)"
      ],
      "metadata": {
        "colab": {
          "base_uri": "https://localhost:8080/"
        },
        "id": "whL2Nj03vZHd",
        "outputId": "65652d28-1426-4245-9ebe-642e86275eb6"
      },
      "execution_count": null,
      "outputs": [
        {
          "output_type": "execute_result",
          "data": {
            "text/plain": [
              "10"
            ]
          },
          "metadata": {},
          "execution_count": 23
        }
      ]
    },
    {
      "cell_type": "code",
      "source": [
        "fun()"
      ],
      "metadata": {
        "colab": {
          "base_uri": "https://localhost:8080/"
        },
        "id": "1KfswiPzvt1v",
        "outputId": "848093af-1516-4e53-9627-4ca84f5ed529"
      },
      "execution_count": null,
      "outputs": [
        {
          "output_type": "execute_result",
          "data": {
            "text/plain": [
              "0"
            ]
          },
          "metadata": {},
          "execution_count": 24
        }
      ]
    },
    {
      "cell_type": "markdown",
      "source": [
        "Encapsulation Concepts:"
      ],
      "metadata": {
        "id": "M8_hBgYLHYSj"
      }
    },
    {
      "cell_type": "code",
      "source": [
        "class Person:\n",
        "  def __init__(self,name, age, salary, atm_pin):  # Constructor\n",
        "    self.name = name       # Public\n",
        "    self._age = age        # Protected, _age - it is accessible to Person and any child class\n",
        "    self._salary = salary  # Protected, _salary - it is a accessible to Person and any child class\n",
        "    self.__atm_pin = atm_pin # Private, __atm_pin - it is accesssible only within Person and not in any child or outside class"
      ],
      "metadata": {
        "id": "2jA05EMyv0vB"
      },
      "execution_count": null,
      "outputs": []
    },
    {
      "cell_type": "code",
      "source": [
        "per1 = Person('Parul', 25, 40000, 1234)"
      ],
      "metadata": {
        "id": "ClAGZsfDyX_d"
      },
      "execution_count": null,
      "outputs": []
    },
    {
      "cell_type": "code",
      "source": [
        "per1.name # Access a public member"
      ],
      "metadata": {
        "colab": {
          "base_uri": "https://localhost:8080/",
          "height": 36
        },
        "id": "2EmjCTjoyjDU",
        "outputId": "48a6c65c-da50-46e9-a397-e052a68b7f19"
      },
      "execution_count": null,
      "outputs": [
        {
          "output_type": "execute_result",
          "data": {
            "text/plain": [
              "'Parul'"
            ],
            "application/vnd.google.colaboratory.intrinsic+json": {
              "type": "string"
            }
          },
          "metadata": {},
          "execution_count": 27
        }
      ]
    },
    {
      "cell_type": "code",
      "source": [
        "per1.__atm_pin     # Access a private member"
      ],
      "metadata": {
        "colab": {
          "base_uri": "https://localhost:8080/",
          "height": 146
        },
        "id": "JTUE7pekykzy",
        "outputId": "96a396d8-71bb-4d7f-a36f-0c1143c18b73"
      },
      "execution_count": null,
      "outputs": [
        {
          "output_type": "error",
          "ename": "AttributeError",
          "evalue": "'Person' object has no attribute '__atm_pin'",
          "traceback": [
            "\u001b[0;31m---------------------------------------------------------------------------\u001b[0m",
            "\u001b[0;31mAttributeError\u001b[0m                            Traceback (most recent call last)",
            "\u001b[0;32m<ipython-input-28-ad3b81967613>\u001b[0m in \u001b[0;36m<cell line: 1>\u001b[0;34m()\u001b[0m\n\u001b[0;32m----> 1\u001b[0;31m \u001b[0mper1\u001b[0m\u001b[0;34m.\u001b[0m\u001b[0m__atm_pin\u001b[0m\u001b[0;34m\u001b[0m\u001b[0;34m\u001b[0m\u001b[0m\n\u001b[0m",
            "\u001b[0;31mAttributeError\u001b[0m: 'Person' object has no attribute '__atm_pin'"
          ]
        }
      ]
    },
    {
      "cell_type": "code",
      "source": [
        "per1._age           # Python does allow to access this, it's agreed that programmer shouldn't exploit this and access protected members/functions outside."
      ],
      "metadata": {
        "colab": {
          "base_uri": "https://localhost:8080/"
        },
        "id": "QGeiOlwbyqKo",
        "outputId": "9883da43-ccfb-4072-e2d9-e52f57ff1ae9"
      },
      "execution_count": null,
      "outputs": [
        {
          "output_type": "execute_result",
          "data": {
            "text/plain": [
              "25"
            ]
          },
          "metadata": {},
          "execution_count": 29
        }
      ]
    },
    {
      "cell_type": "code",
      "source": [
        "type(len(str(1234)))  # how to check the data type of anything."
      ],
      "metadata": {
        "colab": {
          "base_uri": "https://localhost:8080/"
        },
        "id": "uU5bPSf50JZ3",
        "outputId": "7865bfc0-70d9-4240-9911-0c520034eb94"
      },
      "execution_count": null,
      "outputs": [
        {
          "output_type": "execute_result",
          "data": {
            "text/plain": [
              "int"
            ]
          },
          "metadata": {},
          "execution_count": 30
        }
      ]
    },
    {
      "cell_type": "code",
      "source": [
        "class PersonNew:\n",
        "  def __init__(self,name, age, salary, atm_pin):  # Constructor\n",
        "    self.name = name       # Public\n",
        "    self._age = age        # Protected, _age - it is accessible to Person and any child class\n",
        "    self._salary = salary  # Protected, _salary - it is a accessible to Person and any child class\n",
        "    self.__atm_pin = atm_pin # Private, __atm_pin - it is accesssible only within Person and not in any child or outside class\n",
        "\n",
        "  def check_atm_pin(self):   # public method\n",
        "    if len(str(self.__atm_pin)) == 4:\n",
        "      print('Atm Pin is Valid')\n",
        "    else:\n",
        "      print('Invalid Atm Pin')"
      ],
      "metadata": {
        "id": "vz67CmEByw74"
      },
      "execution_count": null,
      "outputs": []
    },
    {
      "cell_type": "code",
      "source": [
        "per2 = PersonNew('Arul',24,20000,3)"
      ],
      "metadata": {
        "id": "X_fOBgWq0CKt"
      },
      "execution_count": null,
      "outputs": []
    },
    {
      "cell_type": "code",
      "source": [
        "per2.check_atm_pin()"
      ],
      "metadata": {
        "colab": {
          "base_uri": "https://localhost:8080/"
        },
        "id": "tIdYZHZc0YbI",
        "outputId": "a7e7f89b-85dd-4ac8-f7ca-6c0894e48d4b"
      },
      "execution_count": null,
      "outputs": [
        {
          "output_type": "stream",
          "name": "stdout",
          "text": [
            "Invalid Atm Pin\n"
          ]
        }
      ]
    },
    {
      "cell_type": "code",
      "source": [
        "per2.__atm_pin          # Private member, this is not allowed."
      ],
      "metadata": {
        "colab": {
          "base_uri": "https://localhost:8080/",
          "height": 146
        },
        "id": "NA5eEAI60sZb",
        "outputId": "8b407065-8552-4eaf-8f21-daee70c67ad4"
      },
      "execution_count": null,
      "outputs": [
        {
          "output_type": "error",
          "ename": "AttributeError",
          "evalue": "'PersonNew' object has no attribute '__atm_pin'",
          "traceback": [
            "\u001b[0;31m---------------------------------------------------------------------------\u001b[0m",
            "\u001b[0;31mAttributeError\u001b[0m                            Traceback (most recent call last)",
            "\u001b[0;32m<ipython-input-56-b0fea318ccc8>\u001b[0m in \u001b[0;36m<cell line: 1>\u001b[0;34m()\u001b[0m\n\u001b[0;32m----> 1\u001b[0;31m \u001b[0mper2\u001b[0m\u001b[0;34m.\u001b[0m\u001b[0m__atm_pin\u001b[0m          \u001b[0;31m# Private member, this is not allowed.\u001b[0m\u001b[0;34m\u001b[0m\u001b[0;34m\u001b[0m\u001b[0m\n\u001b[0m",
            "\u001b[0;31mAttributeError\u001b[0m: 'PersonNew' object has no attribute '__atm_pin'"
          ]
        }
      ]
    },
    {
      "cell_type": "code",
      "source": [
        "class Child(PersonNew):\n",
        "  pass"
      ],
      "metadata": {
        "id": "EuIo8eTO0bYD"
      },
      "execution_count": null,
      "outputs": []
    },
    {
      "cell_type": "code",
      "source": [
        "per2.name = 'Arun'"
      ],
      "metadata": {
        "id": "NbupFZdB04S0"
      },
      "execution_count": null,
      "outputs": []
    },
    {
      "cell_type": "code",
      "source": [
        "per2.__atm_pin"
      ],
      "metadata": {
        "colab": {
          "base_uri": "https://localhost:8080/",
          "height": 146
        },
        "id": "KoVOfVJJ2LAe",
        "outputId": "d90c0c9f-2e5b-41f5-d9ee-4ebdd40d57cf"
      },
      "execution_count": null,
      "outputs": [
        {
          "output_type": "error",
          "ename": "AttributeError",
          "evalue": "'PersonNew' object has no attribute '__atm_pin'",
          "traceback": [
            "\u001b[0;31m---------------------------------------------------------------------------\u001b[0m",
            "\u001b[0;31mAttributeError\u001b[0m                            Traceback (most recent call last)",
            "\u001b[0;32m<ipython-input-59-d084e677725e>\u001b[0m in \u001b[0;36m<cell line: 1>\u001b[0;34m()\u001b[0m\n\u001b[0;32m----> 1\u001b[0;31m \u001b[0mper2\u001b[0m\u001b[0;34m.\u001b[0m\u001b[0m__atm_pin\u001b[0m\u001b[0;34m\u001b[0m\u001b[0;34m\u001b[0m\u001b[0m\n\u001b[0m",
            "\u001b[0;31mAttributeError\u001b[0m: 'PersonNew' object has no attribute '__atm_pin'"
          ]
        }
      ]
    },
    {
      "cell_type": "code",
      "source": [],
      "metadata": {
        "id": "LWxMPIZl2Rhh"
      },
      "execution_count": null,
      "outputs": []
    },
    {
      "cell_type": "code",
      "source": [
        "per2.check_atm_pin()"
      ],
      "metadata": {
        "colab": {
          "base_uri": "https://localhost:8080/"
        },
        "id": "BRB3JQUCIKFi",
        "outputId": "100d0410-94a5-4b02-81fa-c83e1e2dd5aa"
      },
      "execution_count": null,
      "outputs": [
        {
          "output_type": "stream",
          "name": "stdout",
          "text": [
            "Invalid Atm Pin\n"
          ]
        }
      ]
    },
    {
      "cell_type": "code",
      "source": [],
      "metadata": {
        "id": "EkUk3k9-2Wlb"
      },
      "execution_count": null,
      "outputs": []
    },
    {
      "cell_type": "code",
      "source": [
        "class PersonAadhar:\n",
        "  def __init__(self,name, age, aadhar):  # Constructor\n",
        "    self.name = name       # Public\n",
        "    self._age = age        # Protected, _age - it is accessible to Person and any child class\n",
        "    self.__aadhar = aadhar # Private, __aadhar - it is accesssible only within Person and not in any child or outside class\n",
        "\n",
        "  def __get_aadhar(self):  # Private method\n",
        "    return self.__aadhar\n",
        "\n",
        "  def __set_aadhar(self, aadharnum):\n",
        "    self.__aadhar = aadharnum\n",
        "\n",
        "  def check_aadhar(self,aadharnum):\n",
        "    if self.__get_aadhar() == aadharnum:\n",
        "      print('Valid Aadhar')\n",
        "    else:\n",
        "       print('Mismatch. Setting to new')\n",
        "       self.__set_aadhar(aadharnum)"
      ],
      "metadata": {
        "id": "fePwyGQY2jZ6"
      },
      "execution_count": null,
      "outputs": []
    },
    {
      "cell_type": "code",
      "source": [
        "class ChildAadhar(PersonAadhar):\n",
        "  pass"
      ],
      "metadata": {
        "id": "8q8zeJhl3Jel"
      },
      "execution_count": null,
      "outputs": []
    },
    {
      "cell_type": "code",
      "source": [
        "c1 = ChildAadhar('Alex',5,1)"
      ],
      "metadata": {
        "id": "8a6Wa7lc4T6i"
      },
      "execution_count": null,
      "outputs": []
    },
    {
      "cell_type": "code",
      "source": [
        "c1.__get_aadhar()"
      ],
      "metadata": {
        "colab": {
          "base_uri": "https://localhost:8080/",
          "height": 146
        },
        "id": "00V-1aSk4ZQq",
        "outputId": "635accb7-dd22-47ba-cf60-fa7084ad5d08"
      },
      "execution_count": null,
      "outputs": [
        {
          "output_type": "error",
          "ename": "AttributeError",
          "evalue": "'ChildAadhar' object has no attribute '__get_aadhar'",
          "traceback": [
            "\u001b[0;31m---------------------------------------------------------------------------\u001b[0m",
            "\u001b[0;31mAttributeError\u001b[0m                            Traceback (most recent call last)",
            "\u001b[0;32m<ipython-input-64-96897fec64bc>\u001b[0m in \u001b[0;36m<cell line: 1>\u001b[0;34m()\u001b[0m\n\u001b[0;32m----> 1\u001b[0;31m \u001b[0mc1\u001b[0m\u001b[0;34m.\u001b[0m\u001b[0m__get_aadhar\u001b[0m\u001b[0;34m(\u001b[0m\u001b[0;34m)\u001b[0m\u001b[0;34m\u001b[0m\u001b[0;34m\u001b[0m\u001b[0m\n\u001b[0m",
            "\u001b[0;31mAttributeError\u001b[0m: 'ChildAadhar' object has no attribute '__get_aadhar'"
          ]
        }
      ]
    },
    {
      "cell_type": "code",
      "source": [
        "c1.check_aadhar(1)"
      ],
      "metadata": {
        "colab": {
          "base_uri": "https://localhost:8080/"
        },
        "id": "LqjMdvpW4bVg",
        "outputId": "3d7743b9-13b5-4723-acd8-4355fab11d6e"
      },
      "execution_count": null,
      "outputs": [
        {
          "output_type": "stream",
          "name": "stdout",
          "text": [
            "Valid Aadhar\n"
          ]
        }
      ]
    },
    {
      "cell_type": "code",
      "source": [
        "c1.check_aadhar(104555)"
      ],
      "metadata": {
        "colab": {
          "base_uri": "https://localhost:8080/"
        },
        "id": "p-qZvOR94hky",
        "outputId": "b66619ae-726c-43e6-f3f2-860e2bacfde8"
      },
      "execution_count": null,
      "outputs": [
        {
          "output_type": "stream",
          "name": "stdout",
          "text": [
            "Mismatch. Setting to new\n"
          ]
        }
      ]
    },
    {
      "cell_type": "code",
      "source": [
        "c1.check_aadhar(104555)"
      ],
      "metadata": {
        "colab": {
          "base_uri": "https://localhost:8080/"
        },
        "id": "cDdAM1l446Ft",
        "outputId": "be590f31-c9c7-437e-a14b-9b76dda3f012"
      },
      "execution_count": null,
      "outputs": [
        {
          "output_type": "stream",
          "name": "stdout",
          "text": [
            "Valid Aadhar\n"
          ]
        }
      ]
    },
    {
      "cell_type": "code",
      "source": [
        "c1"
      ],
      "metadata": {
        "colab": {
          "base_uri": "https://localhost:8080/"
        },
        "id": "voaxfCLT5LYH",
        "outputId": "52d6b09d-89a9-4d48-9020-87bdc108dbf9"
      },
      "execution_count": null,
      "outputs": [
        {
          "output_type": "execute_result",
          "data": {
            "text/plain": [
              "<__main__.ChildAadhar at 0x7c1ac96db160>"
            ]
          },
          "metadata": {},
          "execution_count": 68
        }
      ]
    },
    {
      "cell_type": "code",
      "source": [
        "c1.__aadhar"
      ],
      "metadata": {
        "colab": {
          "base_uri": "https://localhost:8080/",
          "height": 146
        },
        "id": "VyhZrYTO5PfL",
        "outputId": "7a7b2150-738e-4f03-e0ff-5fefccd771c5"
      },
      "execution_count": null,
      "outputs": [
        {
          "output_type": "error",
          "ename": "AttributeError",
          "evalue": "'ChildAadhar' object has no attribute '__aadhar'",
          "traceback": [
            "\u001b[0;31m---------------------------------------------------------------------------\u001b[0m",
            "\u001b[0;31mAttributeError\u001b[0m                            Traceback (most recent call last)",
            "\u001b[0;32m<ipython-input-69-2cd5aeca8a42>\u001b[0m in \u001b[0;36m<cell line: 1>\u001b[0;34m()\u001b[0m\n\u001b[0;32m----> 1\u001b[0;31m \u001b[0mc1\u001b[0m\u001b[0;34m.\u001b[0m\u001b[0m__aadhar\u001b[0m\u001b[0;34m\u001b[0m\u001b[0;34m\u001b[0m\u001b[0m\n\u001b[0m",
            "\u001b[0;31mAttributeError\u001b[0m: 'ChildAadhar' object has no attribute '__aadhar'"
          ]
        }
      ]
    },
    {
      "cell_type": "markdown",
      "source": [
        "**Abstraction**"
      ],
      "metadata": {
        "id": "ZahTHT4MJf8w"
      }
    },
    {
      "cell_type": "code",
      "source": [
        "# Abstract classes\n",
        "from abc import ABC, abstractmethod\n",
        "\n",
        "class Animal(ABC):  # abstract base class\n",
        "  @abstractmethod\n",
        "  def sound(self):\n",
        "    pass            # Sound that an animal makes"
      ],
      "metadata": {
        "id": "vbpQz_XH8dYM"
      },
      "execution_count": null,
      "outputs": []
    },
    {
      "cell_type": "code",
      "source": [
        "class Dog(Animal):\n",
        "  pass"
      ],
      "metadata": {
        "id": "VY3aAg7I9ALJ"
      },
      "execution_count": null,
      "outputs": []
    },
    {
      "cell_type": "markdown",
      "source": [
        "Since the contents inside the Dog class are empty Dog is a carbon copy of Animal Abstract class. So Dog is also an Abstract class here."
      ],
      "metadata": {
        "id": "oxj1OZk2J9TV"
      }
    },
    {
      "cell_type": "code",
      "source": [
        "dog = Dog()   # Cannot create objects for abstract classes"
      ],
      "metadata": {
        "colab": {
          "base_uri": "https://localhost:8080/",
          "height": 146
        },
        "id": "-yMPDenq9JaG",
        "outputId": "70b8f730-9f0d-420d-884e-554332ee1442"
      },
      "execution_count": null,
      "outputs": [
        {
          "output_type": "error",
          "ename": "TypeError",
          "evalue": "Can't instantiate abstract class Dog with abstract method sound",
          "traceback": [
            "\u001b[0;31m---------------------------------------------------------------------------\u001b[0m",
            "\u001b[0;31mTypeError\u001b[0m                                 Traceback (most recent call last)",
            "\u001b[0;32m<ipython-input-73-8a793088f050>\u001b[0m in \u001b[0;36m<cell line: 1>\u001b[0;34m()\u001b[0m\n\u001b[0;32m----> 1\u001b[0;31m \u001b[0mdog\u001b[0m \u001b[0;34m=\u001b[0m \u001b[0mDog\u001b[0m\u001b[0;34m(\u001b[0m\u001b[0;34m)\u001b[0m   \u001b[0;31m# Cannot create objects for abstract classes\u001b[0m\u001b[0;34m\u001b[0m\u001b[0;34m\u001b[0m\u001b[0m\n\u001b[0m",
            "\u001b[0;31mTypeError\u001b[0m: Can't instantiate abstract class Dog with abstract method sound"
          ]
        }
      ]
    },
    {
      "cell_type": "code",
      "source": [
        "# Let's define this better\n",
        "class Dog(Animal):\n",
        "  def sound(self):\n",
        "    print('Barks')"
      ],
      "metadata": {
        "id": "sPzoM8Us9MWI"
      },
      "execution_count": null,
      "outputs": []
    },
    {
      "cell_type": "code",
      "source": [
        "class Cat(Animal):\n",
        "  def sound(self):\n",
        "    print('Meows')"
      ],
      "metadata": {
        "id": "kSz90BaC9X7Y"
      },
      "execution_count": null,
      "outputs": []
    },
    {
      "cell_type": "code",
      "source": [
        "dog1 = Dog()"
      ],
      "metadata": {
        "id": "zwuj1Hkt9dsW"
      },
      "execution_count": null,
      "outputs": []
    },
    {
      "cell_type": "code",
      "source": [
        "dog1.sound()"
      ],
      "metadata": {
        "colab": {
          "base_uri": "https://localhost:8080/"
        },
        "id": "qbVRNY4u9htU",
        "outputId": "e97c3b05-9f42-493c-d5c0-5138e134dda0"
      },
      "execution_count": null,
      "outputs": [
        {
          "output_type": "stream",
          "name": "stdout",
          "text": [
            "Barks\n"
          ]
        }
      ]
    },
    {
      "cell_type": "code",
      "source": [
        "cat1 = Cat()\n",
        "cat1.sound()"
      ],
      "metadata": {
        "colab": {
          "base_uri": "https://localhost:8080/"
        },
        "id": "qmAhFHQ79i6B",
        "outputId": "9de84d8e-a258-4549-d4ca-7da444b26264"
      },
      "execution_count": null,
      "outputs": [
        {
          "output_type": "stream",
          "name": "stdout",
          "text": [
            "Meows\n"
          ]
        }
      ]
    },
    {
      "cell_type": "code",
      "source": [
        "# Example of an abstract class having an abstract method (color) and a non abstract method fly)\n",
        "class Bird(ABC):\n",
        "\n",
        "  def fly(self):\n",
        "    print('A bird can fly')\n",
        "\n",
        "  @abstractmethod\n",
        "  def color(self):\n",
        "    pass"
      ],
      "metadata": {
        "id": "H8GCz1lL9mWX"
      },
      "execution_count": null,
      "outputs": []
    },
    {
      "cell_type": "code",
      "source": [
        "class Parrot(Bird):\n",
        "  def color(self):\n",
        "    print('Usually green')"
      ],
      "metadata": {
        "id": "dI_7DOof_X9g"
      },
      "execution_count": null,
      "outputs": []
    },
    {
      "cell_type": "code",
      "source": [
        "par1 = Parrot()"
      ],
      "metadata": {
        "id": "kdjHVlaT_eik"
      },
      "execution_count": null,
      "outputs": []
    },
    {
      "cell_type": "code",
      "source": [
        "par1.color()"
      ],
      "metadata": {
        "colab": {
          "base_uri": "https://localhost:8080/"
        },
        "id": "nrGAeIOS_g2r",
        "outputId": "cd24ee14-2d9b-4646-e647-527d801aaafc"
      },
      "execution_count": null,
      "outputs": [
        {
          "output_type": "stream",
          "name": "stdout",
          "text": [
            "Usually green\n"
          ]
        }
      ]
    },
    {
      "cell_type": "code",
      "source": [
        "par1.fly()"
      ],
      "metadata": {
        "colab": {
          "base_uri": "https://localhost:8080/"
        },
        "id": "x3i90tdK_iDG",
        "outputId": "19f42ef3-d916-48e5-b1db-94f4df02f782"
      },
      "execution_count": null,
      "outputs": [
        {
          "output_type": "stream",
          "name": "stdout",
          "text": [
            "A bird can fly\n"
          ]
        }
      ]
    },
    {
      "cell_type": "code",
      "source": [
        "class Duck(Bird):\n",
        "  pass"
      ],
      "metadata": {
        "id": "Hcbxj9nQ_jzZ"
      },
      "execution_count": null,
      "outputs": []
    },
    {
      "cell_type": "code",
      "source": [
        "duck1 = Duck()"
      ],
      "metadata": {
        "colab": {
          "base_uri": "https://localhost:8080/",
          "height": 146
        },
        "id": "hKoN80bl_x4S",
        "outputId": "02a0db53-63d0-460a-d767-06ada461a6ee"
      },
      "execution_count": null,
      "outputs": [
        {
          "output_type": "error",
          "ename": "TypeError",
          "evalue": "Can't instantiate abstract class Duck with abstract method color",
          "traceback": [
            "\u001b[0;31m---------------------------------------------------------------------------\u001b[0m",
            "\u001b[0;31mTypeError\u001b[0m                                 Traceback (most recent call last)",
            "\u001b[0;32m<ipython-input-86-f88c9b68db0b>\u001b[0m in \u001b[0;36m<cell line: 1>\u001b[0;34m()\u001b[0m\n\u001b[0;32m----> 1\u001b[0;31m \u001b[0mduck1\u001b[0m \u001b[0;34m=\u001b[0m \u001b[0mDuck\u001b[0m\u001b[0;34m(\u001b[0m\u001b[0;34m)\u001b[0m\u001b[0;34m\u001b[0m\u001b[0;34m\u001b[0m\u001b[0m\n\u001b[0m",
            "\u001b[0;31mTypeError\u001b[0m: Can't instantiate abstract class Duck with abstract method color"
          ]
        }
      ]
    },
    {
      "cell_type": "code",
      "source": [
        "class Penguin(Bird):\n",
        "  def fly(self):         # Over riding the non abstract method\n",
        "    print('Cannot fly!')\n",
        "  def color(self):       # Implementing the abstract method\n",
        "    print('Usually grey/black with white')"
      ],
      "metadata": {
        "id": "VNF8j9ta_z-u"
      },
      "execution_count": null,
      "outputs": []
    },
    {
      "cell_type": "code",
      "source": [
        "penguin1 = Penguin()"
      ],
      "metadata": {
        "id": "Dh7zKYlWAIyj"
      },
      "execution_count": null,
      "outputs": []
    },
    {
      "cell_type": "code",
      "source": [
        "penguin1.fly()"
      ],
      "metadata": {
        "colab": {
          "base_uri": "https://localhost:8080/"
        },
        "id": "3B8BF8DSAMWZ",
        "outputId": "d494ccc7-c50a-4f12-deaf-6c56e0653293"
      },
      "execution_count": null,
      "outputs": [
        {
          "output_type": "stream",
          "name": "stdout",
          "text": [
            "Cannot fly!\n"
          ]
        }
      ]
    },
    {
      "cell_type": "code",
      "source": [
        "par1.fly()"
      ],
      "metadata": {
        "colab": {
          "base_uri": "https://localhost:8080/"
        },
        "id": "qLKd6EdlAStN",
        "outputId": "7428516a-4cd8-4596-f0fd-f8db95288006"
      },
      "execution_count": null,
      "outputs": [
        {
          "output_type": "stream",
          "name": "stdout",
          "text": [
            "A bird can fly\n"
          ]
        }
      ]
    },
    {
      "cell_type": "code",
      "source": [
        "penguin1.color()"
      ],
      "metadata": {
        "colab": {
          "base_uri": "https://localhost:8080/"
        },
        "id": "myy_aLBWAUPd",
        "outputId": "90b0a4c7-f0d3-40c4-a49e-9c2499defbb2"
      },
      "execution_count": null,
      "outputs": [
        {
          "output_type": "stream",
          "name": "stdout",
          "text": [
            "Usually grey/black with white\n"
          ]
        }
      ]
    },
    {
      "cell_type": "code",
      "source": [
        "par1.color()"
      ],
      "metadata": {
        "colab": {
          "base_uri": "https://localhost:8080/"
        },
        "id": "-E2noc-bAWl-",
        "outputId": "1d5d5490-a09c-4644-bceb-bee5879e207c"
      },
      "execution_count": null,
      "outputs": [
        {
          "output_type": "stream",
          "name": "stdout",
          "text": [
            "Usually green\n"
          ]
        }
      ]
    },
    {
      "cell_type": "code",
      "source": [
        "# What happens if we don't mention color as an abstract method\n",
        "class BirdNew(ABC):\n",
        "  def color(self):\n",
        "    print('My color is black')"
      ],
      "metadata": {
        "id": "8BgSd8rBAYEX"
      },
      "execution_count": null,
      "outputs": []
    },
    {
      "cell_type": "code",
      "source": [
        "class newParrot(BirdNew):\n",
        "  def color(self):\n",
        "   print('My color is green usually')"
      ],
      "metadata": {
        "id": "bfx7qst8GVB0"
      },
      "execution_count": null,
      "outputs": []
    },
    {
      "cell_type": "code",
      "source": [
        "newpar1 = newParrot()"
      ],
      "metadata": {
        "id": "k7EbqJ8eGZxS"
      },
      "execution_count": null,
      "outputs": []
    },
    {
      "cell_type": "code",
      "source": [
        "newpar1.color()"
      ],
      "metadata": {
        "colab": {
          "base_uri": "https://localhost:8080/"
        },
        "id": "dnZBj69ZGcLH",
        "outputId": "9a9d2328-56a8-419a-cb6b-ad9a15d2356c"
      },
      "execution_count": null,
      "outputs": [
        {
          "output_type": "stream",
          "name": "stdout",
          "text": [
            "My color is green usually\n"
          ]
        }
      ]
    },
    {
      "cell_type": "code",
      "source": [
        "# A programmer may forget to modify the color() method\n",
        "class newFlamingo(BirdNew):\n",
        "  pass"
      ],
      "metadata": {
        "id": "gxWlxOnVGdm_"
      },
      "execution_count": null,
      "outputs": []
    },
    {
      "cell_type": "code",
      "source": [
        "flamin = newFlamingo()"
      ],
      "metadata": {
        "id": "-Bm99BB5IEg7"
      },
      "execution_count": null,
      "outputs": []
    },
    {
      "cell_type": "code",
      "source": [
        "flamin.color()"
      ],
      "metadata": {
        "colab": {
          "base_uri": "https://localhost:8080/"
        },
        "id": "7RlFkh_mLEFe",
        "outputId": "6c1361e3-b2c7-4e7c-bb4b-6351c72116ff"
      },
      "execution_count": null,
      "outputs": [
        {
          "output_type": "stream",
          "name": "stdout",
          "text": [
            "My color is black\n"
          ]
        }
      ]
    },
    {
      "cell_type": "markdown",
      "source": [
        "The color of flamingo is pink."
      ],
      "metadata": {
        "id": "D6w8RuMOLH7L"
      }
    },
    {
      "cell_type": "code",
      "source": [
        "# Clarification on the private attribute part.\n",
        "class Parent():\n",
        "  def __init__(self, a, b):\n",
        "    self.a = a      # public\n",
        "    self.__b = b    # private\n",
        "  def display_b_attribute(self):\n",
        "    print(self.__b)"
      ],
      "metadata": {
        "id": "qdgfLhIULFNX"
      },
      "execution_count": 1,
      "outputs": []
    },
    {
      "cell_type": "code",
      "source": [
        "par = Parent(1,2)"
      ],
      "metadata": {
        "id": "SPgZTH4SUyEX"
      },
      "execution_count": 2,
      "outputs": []
    },
    {
      "cell_type": "code",
      "source": [
        "par.a"
      ],
      "metadata": {
        "colab": {
          "base_uri": "https://localhost:8080/"
        },
        "id": "38tzQwkbVNC5",
        "outputId": "8adbf8c9-7bea-4bb8-b2b3-7f7a26fd4868"
      },
      "execution_count": 3,
      "outputs": [
        {
          "output_type": "execute_result",
          "data": {
            "text/plain": [
              "1"
            ]
          },
          "metadata": {},
          "execution_count": 3
        }
      ]
    },
    {
      "cell_type": "code",
      "source": [
        "par.__b"
      ],
      "metadata": {
        "colab": {
          "base_uri": "https://localhost:8080/",
          "height": 146
        },
        "id": "SFxdc5fvVN0X",
        "outputId": "33f6dd64-2e14-400c-a9dd-42e0fcb499ef"
      },
      "execution_count": 4,
      "outputs": [
        {
          "output_type": "error",
          "ename": "AttributeError",
          "evalue": "'Parent' object has no attribute '__b'",
          "traceback": [
            "\u001b[0;31m---------------------------------------------------------------------------\u001b[0m",
            "\u001b[0;31mAttributeError\u001b[0m                            Traceback (most recent call last)",
            "\u001b[0;32m<ipython-input-4-fbf088bb8937>\u001b[0m in \u001b[0;36m<cell line: 1>\u001b[0;34m()\u001b[0m\n\u001b[0;32m----> 1\u001b[0;31m \u001b[0mpar\u001b[0m\u001b[0;34m.\u001b[0m\u001b[0m__b\u001b[0m\u001b[0;34m\u001b[0m\u001b[0;34m\u001b[0m\u001b[0m\n\u001b[0m",
            "\u001b[0;31mAttributeError\u001b[0m: 'Parent' object has no attribute '__b'"
          ]
        }
      ]
    },
    {
      "cell_type": "code",
      "source": [
        "vars(par)"
      ],
      "metadata": {
        "colab": {
          "base_uri": "https://localhost:8080/"
        },
        "id": "_cYHm1gKVOv9",
        "outputId": "7506ff73-7611-4e3e-f2c0-1228c5f7cfdc"
      },
      "execution_count": 5,
      "outputs": [
        {
          "output_type": "execute_result",
          "data": {
            "text/plain": [
              "{'a': 1, '_Parent__b': 2}"
            ]
          },
          "metadata": {},
          "execution_count": 5
        }
      ]
    },
    {
      "cell_type": "code",
      "source": [
        "par.__b = 3"
      ],
      "metadata": {
        "id": "LDiQ7VecVQ4Y"
      },
      "execution_count": 8,
      "outputs": []
    },
    {
      "cell_type": "code",
      "source": [
        "par.__b"
      ],
      "metadata": {
        "colab": {
          "base_uri": "https://localhost:8080/"
        },
        "id": "VohrhspxVTRp",
        "outputId": "933b0b33-a04d-4634-8e07-548b7e721288"
      },
      "execution_count": 9,
      "outputs": [
        {
          "output_type": "execute_result",
          "data": {
            "text/plain": [
              "3"
            ]
          },
          "metadata": {},
          "execution_count": 9
        }
      ]
    },
    {
      "cell_type": "code",
      "source": [
        "par.display_b_attribute()"
      ],
      "metadata": {
        "colab": {
          "base_uri": "https://localhost:8080/"
        },
        "id": "-0b5l33QVUuK",
        "outputId": "8e13848f-d250-47dc-ea25-2bf1627be7de"
      },
      "execution_count": 10,
      "outputs": [
        {
          "output_type": "stream",
          "name": "stdout",
          "text": [
            "2\n"
          ]
        }
      ]
    },
    {
      "cell_type": "code",
      "source": [
        "vars(par)"
      ],
      "metadata": {
        "colab": {
          "base_uri": "https://localhost:8080/"
        },
        "id": "-AQhnq0HVZZ-",
        "outputId": "cd101079-a7de-47ea-ae43-7a445410363e"
      },
      "execution_count": 11,
      "outputs": [
        {
          "output_type": "execute_result",
          "data": {
            "text/plain": [
              "{'a': 1, '_Parent__b': 2, '__b': 3}"
            ]
          },
          "metadata": {},
          "execution_count": 11
        }
      ]
    },
    {
      "cell_type": "code",
      "source": [],
      "metadata": {
        "id": "K6uPGiIXVbEi"
      },
      "execution_count": null,
      "outputs": []
    }
  ]
}