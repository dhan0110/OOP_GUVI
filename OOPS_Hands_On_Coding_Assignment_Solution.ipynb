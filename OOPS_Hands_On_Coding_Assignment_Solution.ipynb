{
  "nbformat": 4,
  "nbformat_minor": 0,
  "metadata": {
    "colab": {
      "provenance": [],
      "authorship_tag": "ABX9TyMbwM3Y8wYELE+MXwJIZ4cd"
    },
    "kernelspec": {
      "name": "python3",
      "display_name": "Python 3"
    },
    "language_info": {
      "name": "python"
    }
  },
  "cells": [
    {
      "cell_type": "markdown",
      "source": [
        "Topics - Objects and Classes"
      ],
      "metadata": {
        "id": "g2aKZyRhq7_k"
      }
    },
    {
      "cell_type": "code",
      "source": [
        "# Solution 1\n",
        "class ABC:\n",
        "  pass"
      ],
      "metadata": {
        "id": "3TAei1E0rBIg"
      },
      "execution_count": 1,
      "outputs": []
    },
    {
      "cell_type": "code",
      "source": [
        "# Solution 2\n",
        "class School:\n",
        "  def __init__(self, name,academic_year,total_students,board,own_transport):\n",
        "    self.name = name\n",
        "    self.academic_year = academic_year\n",
        "    self.total_students = total_students\n",
        "    self.board = board\n",
        "    self.own_transport = own_transport"
      ],
      "metadata": {
        "id": "OorKHPrsra6T"
      },
      "execution_count": 2,
      "outputs": []
    },
    {
      "cell_type": "code",
      "source": [
        "# Solution 3\n",
        "school1 = School('Oxford',2024,2215,'CBSE','no')\n",
        "school2 = School('Chaitanya',2024,2245,'ICSE','yes')"
      ],
      "metadata": {
        "id": "38bAFXyGr17_"
      },
      "execution_count": 3,
      "outputs": []
    },
    {
      "cell_type": "code",
      "source": [
        "# Solution 4\n",
        "if school1.total_students > school2.total_students:\n",
        "  print (school1.name,' school has more students')\n",
        "else:\n",
        "  print (school2.name,' school has more students')"
      ],
      "metadata": {
        "colab": {
          "base_uri": "https://localhost:8080/"
        },
        "id": "GIAHHvC9sWsq",
        "outputId": "50bacc25-57a2-4d2a-bb4b-69a85c2c87e3"
      },
      "execution_count": 6,
      "outputs": [
        {
          "output_type": "stream",
          "name": "stdout",
          "text": [
            "Chaitanya  school has more students\n"
          ]
        }
      ]
    },
    {
      "cell_type": "markdown",
      "source": [
        "Topics - Inheritance and Polymorphism"
      ],
      "metadata": {
        "id": "ql40fp0Vsz4R"
      }
    },
    {
      "cell_type": "code",
      "source": [
        "class Sportsman():\n",
        "\n",
        "  def __init__(self,sport,role,wins):\n",
        "    self.sport = sport\n",
        "    self.role = role\n",
        "    self.wins = wins\n",
        "\n",
        "  def plays(self):\n",
        "    print('Player playes the sport: ',self.sport)\n",
        "\n",
        "  def stats(self):\n",
        "    print('Player has ',self.wins,' wins')"
      ],
      "metadata": {
        "id": "YLiwwVGUsuA5"
      },
      "execution_count": 8,
      "outputs": []
    },
    {
      "cell_type": "code",
      "source": [
        "class Cricketer(Sportsman):\n",
        "  def __init__(self, sport, role, runs, catches, wins):\n",
        "    super().__init__(sport,role,wins)\n",
        "    self.runs = runs\n",
        "    self.catches = catches"
      ],
      "metadata": {
        "id": "0iLOSGBDtjiO"
      },
      "execution_count": 9,
      "outputs": []
    },
    {
      "cell_type": "code",
      "source": [
        "class Footballer(Sportsman):\n",
        "  def __init__(self, sport, role, goals, use_hands, wins):\n",
        "    super().__init__(sport,role,wins)\n",
        "    #Sportsman.__init__(self, sport, role, wins)\n",
        "    self.goals = goals\n",
        "    self.use_hands = use_hands\n",
        "  def stats(self):\n",
        "    if self.role == 'Goalkeeper':\n",
        "      print('The number of goals blocked is: ',self.goals)\n",
        "    else:\n",
        "      print('The number of goals scored is: ', self.goals)\n",
        "  def display_role(self):\n",
        "    print('The role of player is: ', self.role)"
      ],
      "metadata": {
        "id": "3b0ijJHFuAaM"
      },
      "execution_count": 10,
      "outputs": []
    },
    {
      "cell_type": "code",
      "source": [
        "Player1 = Cricketer('Cricket', 'Batsman', 145, 0, 1)\n",
        "Player2 = Footballer('Football', 'Goalkeeper', 5, 'yes', 2)\n",
        "Player3 = Footballer('Football', 'Forward Player', 3, 'no', 1)\n",
        "\n",
        "Player1.plays()\n",
        "Player2.plays()\n",
        "\n",
        "Player1.stats()\n",
        "Player2.stats()\n",
        "Player3.stats()\n",
        "\n",
        "Player2.display_role()"
      ],
      "metadata": {
        "colab": {
          "base_uri": "https://localhost:8080/"
        },
        "id": "LXs6Mt67u6_0",
        "outputId": "b43c44ff-bf16-4c31-a0b9-eee348be57a0"
      },
      "execution_count": 11,
      "outputs": [
        {
          "output_type": "stream",
          "name": "stdout",
          "text": [
            "Player playes the sport:  Cricket\n",
            "Player playes the sport:  Football\n",
            "Player has  1  wins\n",
            "The number of goals blocked is:  5\n",
            "The number of goals scored is:  3\n",
            "The role of player is:  Goalkeeper\n"
          ]
        }
      ]
    },
    {
      "cell_type": "code",
      "source": [],
      "metadata": {
        "id": "9nQMR_Ptu-U3"
      },
      "execution_count": 4,
      "outputs": []
    },
    {
      "cell_type": "code",
      "source": [],
      "metadata": {
        "id": "acb3vFJYJj9h"
      },
      "execution_count": null,
      "outputs": []
    }
  ]
}