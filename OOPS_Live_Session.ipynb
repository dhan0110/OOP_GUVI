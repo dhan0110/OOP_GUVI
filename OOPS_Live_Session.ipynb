{
  "nbformat": 4,
  "nbformat_minor": 0,
  "metadata": {
    "colab": {
      "provenance": [],
      "authorship_tag": "ABX9TyMRvyleooFt4YCSVyby8XP8"
    },
    "kernelspec": {
      "name": "python3",
      "display_name": "Python 3"
    },
    "language_info": {
      "name": "python"
    }
  },
  "cells": [
    {
      "cell_type": "code",
      "execution_count": 1,
      "metadata": {
        "id": "i8Sz1HXBnAcs"
      },
      "outputs": [],
      "source": [
        "class Employee:\n",
        "  def __init__(self, name, age,gender, dept):  # Constructor for Employee class\n",
        "    self.name = name\n",
        "    self.age = age\n",
        "    self.gender = gender\n",
        "    self.dept = dept\n",
        "    print(\"I'm inside the constructor function for Employee Class\")"
      ]
    },
    {
      "cell_type": "code",
      "source": [
        "Employee"
      ],
      "metadata": {
        "colab": {
          "base_uri": "https://localhost:8080/",
          "height": 103
        },
        "id": "9fYvCLBCnxA6",
        "outputId": "7c76d48e-2665-4b9c-952d-2e80605878b9"
      },
      "execution_count": 2,
      "outputs": [
        {
          "output_type": "execute_result",
          "data": {
            "text/plain": [
              "__main__.Employee"
            ],
            "text/html": [
              "<div style=\"max-width:800px; border: 1px solid var(--colab-border-color);\"><style>\n",
              "      pre.function-repr-contents {\n",
              "        overflow-x: auto;\n",
              "        padding: 8px 12px;\n",
              "        max-height: 500px;\n",
              "      }\n",
              "\n",
              "      pre.function-repr-contents.function-repr-contents-collapsed {\n",
              "        cursor: pointer;\n",
              "        max-height: 100px;\n",
              "      }\n",
              "    </style>\n",
              "    <pre style=\"white-space: initial; background:\n",
              "         var(--colab-secondary-surface-color); padding: 8px 12px;\n",
              "         border-bottom: 1px solid var(--colab-border-color);\"><b>Employee</b><br/>def __init__(name, age, gender, dept)</pre><pre class=\"function-repr-contents function-repr-contents-collapsed\" style=\"\"><a class=\"filepath\" style=\"display:none\" href=\"#\"></a>&lt;no docstring&gt;</pre></div>"
            ]
          },
          "metadata": {},
          "execution_count": 2
        }
      ]
    },
    {
      "cell_type": "code",
      "source": [
        "emp1 = Employee('Sam',25,'M','Production')"
      ],
      "metadata": {
        "colab": {
          "base_uri": "https://localhost:8080/"
        },
        "id": "v1jTOdSRn2Du",
        "outputId": "cc077ed2-6144-4f70-df19-728d8fc1e71d"
      },
      "execution_count": 3,
      "outputs": [
        {
          "output_type": "stream",
          "name": "stdout",
          "text": [
            "I'm inside the constructor function for Employee Class\n"
          ]
        }
      ]
    },
    {
      "cell_type": "code",
      "source": [
        "class emptyClass:\n",
        "  pass"
      ],
      "metadata": {
        "id": "iluPoF0doMnz"
      },
      "execution_count": 4,
      "outputs": []
    },
    {
      "cell_type": "code",
      "source": [
        "emc = emptyClass()"
      ],
      "metadata": {
        "id": "r1neYogWoUg5"
      },
      "execution_count": 5,
      "outputs": []
    },
    {
      "cell_type": "code",
      "source": [
        "emc"
      ],
      "metadata": {
        "colab": {
          "base_uri": "https://localhost:8080/"
        },
        "id": "A-t7OnjxoYcd",
        "outputId": "3b633f28-d58c-402a-8946-447dd76e7e3d"
      },
      "execution_count": 6,
      "outputs": [
        {
          "output_type": "execute_result",
          "data": {
            "text/plain": [
              "<__main__.emptyClass at 0x7d3755baa020>"
            ]
          },
          "metadata": {},
          "execution_count": 6
        }
      ]
    },
    {
      "cell_type": "code",
      "source": [
        "class Employee:\n",
        "\n",
        "  EmployeeCount = 0                 # Class variable. This is common to all the objects defined for this class.\n",
        "\n",
        "  def __init__(self, name, age,gender, dept):  # Constructor for Employee class\n",
        "    self.name = name\n",
        "    self.age = age\n",
        "    self.gender = gender\n",
        "    self.dept = dept\n",
        "    self.empId = Employee.EmployeeCount + 1\n",
        "    Employee.EmployeeCount += 1\n",
        "    print(\"Employee Created Successfully!\")\n",
        "\n",
        "  # Method to disply Employee's Details\n",
        "\n",
        "  def get_employee_details(self):\n",
        "    print('Employee: ',self.name, 'belongs to dept: ', self.dept, 'with EmployeeID:', self.empId)\n"
      ],
      "metadata": {
        "id": "y4CE1f2moZvT"
      },
      "execution_count": 7,
      "outputs": []
    },
    {
      "cell_type": "code",
      "source": [
        "emp1 = Employee('Sam',25,'M','Production')"
      ],
      "metadata": {
        "colab": {
          "base_uri": "https://localhost:8080/"
        },
        "id": "rpBaAjzRppU9",
        "outputId": "7646a4e4-ab3f-4802-e75c-9d6be3c82f9f"
      },
      "execution_count": 8,
      "outputs": [
        {
          "output_type": "stream",
          "name": "stdout",
          "text": [
            "Employee Created Successfully!\n"
          ]
        }
      ]
    },
    {
      "cell_type": "code",
      "source": [
        "emp1.empId"
      ],
      "metadata": {
        "colab": {
          "base_uri": "https://localhost:8080/"
        },
        "id": "Mb1sI8vEpzn1",
        "outputId": "4617c825-37b1-452f-885c-86251ae3a489"
      },
      "execution_count": 9,
      "outputs": [
        {
          "output_type": "execute_result",
          "data": {
            "text/plain": [
              "1"
            ]
          },
          "metadata": {},
          "execution_count": 9
        }
      ]
    },
    {
      "cell_type": "code",
      "source": [
        "emp1.get_employee_details()"
      ],
      "metadata": {
        "colab": {
          "base_uri": "https://localhost:8080/"
        },
        "id": "vQF9YDYip75M",
        "outputId": "bcda7e85-0042-4af3-e836-6b67d61a57c0"
      },
      "execution_count": 10,
      "outputs": [
        {
          "output_type": "stream",
          "name": "stdout",
          "text": [
            "Employee:  Sam belongs to dept:  Production with EmployeeID: 1\n"
          ]
        }
      ]
    },
    {
      "cell_type": "code",
      "source": [
        "emp2 = Employee('Ann',24,'F','Accounts')"
      ],
      "metadata": {
        "colab": {
          "base_uri": "https://localhost:8080/"
        },
        "id": "NX8N4-KXp_w3",
        "outputId": "01fc21ff-fb11-4cb9-9ee0-86541a55c21d"
      },
      "execution_count": 11,
      "outputs": [
        {
          "output_type": "stream",
          "name": "stdout",
          "text": [
            "Employee Created Successfully!\n"
          ]
        }
      ]
    },
    {
      "cell_type": "code",
      "source": [
        "emp2.empId"
      ],
      "metadata": {
        "colab": {
          "base_uri": "https://localhost:8080/"
        },
        "id": "bIL7nSWdqOZi",
        "outputId": "75b9b316-58bb-439d-8889-ff106ed0284e"
      },
      "execution_count": 12,
      "outputs": [
        {
          "output_type": "execute_result",
          "data": {
            "text/plain": [
              "2"
            ]
          },
          "metadata": {},
          "execution_count": 12
        }
      ]
    },
    {
      "cell_type": "code",
      "source": [
        "Employee.EmployeeCount"
      ],
      "metadata": {
        "colab": {
          "base_uri": "https://localhost:8080/"
        },
        "id": "fclDz9N5qRE8",
        "outputId": "96cb9bff-0caf-4945-cae1-669961faf313"
      },
      "execution_count": 13,
      "outputs": [
        {
          "output_type": "execute_result",
          "data": {
            "text/plain": [
              "2"
            ]
          },
          "metadata": {},
          "execution_count": 13
        }
      ]
    },
    {
      "cell_type": "code",
      "source": [
        "emp1.EmployeeCount"
      ],
      "metadata": {
        "colab": {
          "base_uri": "https://localhost:8080/"
        },
        "id": "lgm_0HnOqfGF",
        "outputId": "483c196d-d060-470b-b11a-b267e6a9ff26"
      },
      "execution_count": 14,
      "outputs": [
        {
          "output_type": "execute_result",
          "data": {
            "text/plain": [
              "2"
            ]
          },
          "metadata": {},
          "execution_count": 14
        }
      ]
    },
    {
      "cell_type": "code",
      "source": [
        "emp2.EmployeeCount"
      ],
      "metadata": {
        "colab": {
          "base_uri": "https://localhost:8080/"
        },
        "id": "2SSnY_4uqh9y",
        "outputId": "192318ef-b8c8-4472-db3e-9830c4423465"
      },
      "execution_count": 15,
      "outputs": [
        {
          "output_type": "execute_result",
          "data": {
            "text/plain": [
              "2"
            ]
          },
          "metadata": {},
          "execution_count": 15
        }
      ]
    },
    {
      "cell_type": "code",
      "source": [
        "class EmployeeTest:\n",
        "\n",
        "   def __init__(self, name, age,gender, dept):  # Constructor for Employee class\n",
        "\n",
        "    self.EmployeeCount = 0\n",
        "    self.name = name\n",
        "    self.age = age\n",
        "    self.gender = gender\n",
        "    self.dept = dept\n",
        "    self.empId = self.EmployeeCount + 1\n",
        "    self.EmployeeCount += 1\n",
        "    print(\"Employee Created Successfully!\")\n",
        "\n",
        "    # Method to disply Employee's Details\n",
        "   def get_employee_details(self):\n",
        "    print('Employee: ',self.name, 'belongs to dept: ', self.dept, 'with EmployeeID:', self.empId)"
      ],
      "metadata": {
        "id": "gCG9Tdxaqn0s"
      },
      "execution_count": 16,
      "outputs": []
    },
    {
      "cell_type": "code",
      "source": [
        "test = EmployeeTest('abc','1','F','testing')"
      ],
      "metadata": {
        "colab": {
          "base_uri": "https://localhost:8080/"
        },
        "id": "hnNMl0kvrHG2",
        "outputId": "7cd3773a-d0b6-4da9-8ac3-794c17755427"
      },
      "execution_count": 17,
      "outputs": [
        {
          "output_type": "stream",
          "name": "stdout",
          "text": [
            "Employee Created Successfully!\n"
          ]
        }
      ]
    },
    {
      "cell_type": "code",
      "source": [
        "test2 = EmployeeTest('abcd','5','F','testing')"
      ],
      "metadata": {
        "colab": {
          "base_uri": "https://localhost:8080/"
        },
        "id": "0Zwr9-p8rcLj",
        "outputId": "3f6bdd81-7fe1-493f-f09b-0c749d16f537"
      },
      "execution_count": 18,
      "outputs": [
        {
          "output_type": "stream",
          "name": "stdout",
          "text": [
            "Employee Created Successfully!\n"
          ]
        }
      ]
    },
    {
      "cell_type": "code",
      "source": [
        "test.get_employee_details()"
      ],
      "metadata": {
        "colab": {
          "base_uri": "https://localhost:8080/"
        },
        "id": "_hLk85cJrf-H",
        "outputId": "55a86420-41eb-48fa-a444-2e6998adef8b"
      },
      "execution_count": 19,
      "outputs": [
        {
          "output_type": "stream",
          "name": "stdout",
          "text": [
            "Employee:  abc belongs to dept:  testing with EmployeeID: 1\n"
          ]
        }
      ]
    },
    {
      "cell_type": "code",
      "source": [
        "test2.get_employee_details()"
      ],
      "metadata": {
        "colab": {
          "base_uri": "https://localhost:8080/"
        },
        "id": "MZEnJqG8rjAz",
        "outputId": "19a80183-e5bf-498a-83b0-f7b9babcdcef"
      },
      "execution_count": 20,
      "outputs": [
        {
          "output_type": "stream",
          "name": "stdout",
          "text": [
            "Employee:  abcd belongs to dept:  testing with EmployeeID: 1\n"
          ]
        }
      ]
    },
    {
      "cell_type": "code",
      "source": [
        "class Employee:\n",
        "\n",
        "  EmployeeCount = 0                 # Class variable. This is common to all the objects defined for this class.\n",
        "\n",
        "  def generateEmpId(self):\n",
        "    Employee.EmployeeCount += 1\n",
        "    return Employee.EmployeeCount\n",
        "\n",
        "  def __init__(self, name, age,gender, dept):  # Constructor for Employee class\n",
        "    self.name = name\n",
        "    self.age = age\n",
        "    self.gender = gender\n",
        "    self.dept = dept\n",
        "    self.empId = self.generateEmpId()\n",
        "    print(\"Employee Created Successfully!\")\n",
        "\n",
        "  # Method to disply Employee's Details\n",
        "\n",
        "  def get_employee_details(self):\n",
        "    print('Employee: ',self.name, 'belongs to dept: ', self.dept, 'with EmployeeID:', self.empId)"
      ],
      "metadata": {
        "id": "xIScpxXZr4mS"
      },
      "execution_count": 21,
      "outputs": []
    },
    {
      "cell_type": "code",
      "source": [
        "emp1 = Employee('Sam',25,'M','Production')"
      ],
      "metadata": {
        "colab": {
          "base_uri": "https://localhost:8080/"
        },
        "id": "bQtkx6zMtqzF",
        "outputId": "828af27b-c89d-4335-8c4f-09073b8703a1"
      },
      "execution_count": 22,
      "outputs": [
        {
          "output_type": "stream",
          "name": "stdout",
          "text": [
            "Employee Created Successfully!\n"
          ]
        }
      ]
    },
    {
      "cell_type": "markdown",
      "source": [
        "Inheritance - Base/Derived class examples"
      ],
      "metadata": {
        "id": "4Q0vo27lMjm5"
      }
    },
    {
      "cell_type": "code",
      "source": [
        "# We're going to create two derived classes: tech and non tech\n",
        "class TechEmployee(Employee):\n",
        "  pass"
      ],
      "metadata": {
        "id": "cudEAlMxtlAg"
      },
      "execution_count": 23,
      "outputs": []
    },
    {
      "cell_type": "code",
      "source": [
        "tech1 = TechEmployee('Arush',25,'M','Biomedical')"
      ],
      "metadata": {
        "colab": {
          "base_uri": "https://localhost:8080/"
        },
        "id": "A2yT9imIw2Vh",
        "outputId": "421d1f86-a7b3-4d41-c7eb-49fb5ee03f6d"
      },
      "execution_count": 24,
      "outputs": [
        {
          "output_type": "stream",
          "name": "stdout",
          "text": [
            "Employee Created Successfully!\n"
          ]
        }
      ]
    },
    {
      "cell_type": "code",
      "source": [
        "tech1.EmployeeCount"
      ],
      "metadata": {
        "colab": {
          "base_uri": "https://localhost:8080/"
        },
        "id": "VqeWRcOCw-qQ",
        "outputId": "577be33c-0bfd-407b-a82f-2b9a60a6e21b"
      },
      "execution_count": 25,
      "outputs": [
        {
          "output_type": "execute_result",
          "data": {
            "text/plain": [
              "2"
            ]
          },
          "metadata": {},
          "execution_count": 25
        }
      ]
    },
    {
      "cell_type": "code",
      "source": [
        "tech1.get_employee_details()"
      ],
      "metadata": {
        "colab": {
          "base_uri": "https://localhost:8080/"
        },
        "id": "jBdDtfYtxhbu",
        "outputId": "03e82938-76a0-4e03-b62c-8f1877d8fe76"
      },
      "execution_count": 26,
      "outputs": [
        {
          "output_type": "stream",
          "name": "stdout",
          "text": [
            "Employee:  Arush belongs to dept:  Biomedical with EmployeeID: 2\n"
          ]
        }
      ]
    },
    {
      "cell_type": "code",
      "source": [
        "emp2 = Employee('Jiva',24,'M','Accounts')"
      ],
      "metadata": {
        "colab": {
          "base_uri": "https://localhost:8080/"
        },
        "id": "RVtOBTiV9xEw",
        "outputId": "504ffa5e-1a60-4186-9693-c12163f8b921"
      },
      "execution_count": 27,
      "outputs": [
        {
          "output_type": "stream",
          "name": "stdout",
          "text": [
            "Employee Created Successfully!\n"
          ]
        }
      ]
    },
    {
      "cell_type": "code",
      "source": [
        "emp1.EmployeeCount"
      ],
      "metadata": {
        "colab": {
          "base_uri": "https://localhost:8080/"
        },
        "id": "lP0z_Wbb-LZP",
        "outputId": "fc05ad45-8709-447b-8ce8-9291e331b70a"
      },
      "execution_count": 28,
      "outputs": [
        {
          "output_type": "execute_result",
          "data": {
            "text/plain": [
              "3"
            ]
          },
          "metadata": {},
          "execution_count": 28
        }
      ]
    },
    {
      "cell_type": "code",
      "source": [
        "tech1.EmployeeCount"
      ],
      "metadata": {
        "colab": {
          "base_uri": "https://localhost:8080/"
        },
        "id": "-9Ha8QFd-B_T",
        "outputId": "83765b8a-32d3-4dae-d672-fbdf043d9cef"
      },
      "execution_count": 29,
      "outputs": [
        {
          "output_type": "execute_result",
          "data": {
            "text/plain": [
              "3"
            ]
          },
          "metadata": {},
          "execution_count": 29
        }
      ]
    },
    {
      "cell_type": "code",
      "source": [
        "class NonTechEmployee(Employee):\n",
        "  def __init__(self, name, age, gender, dept, experience):  # Constructor for my derived class\n",
        "    super().__init__(name, age, gender, dept)\n",
        "    #Employee.__init__(self, name, age, gender, dept)\n",
        "    self.experience = experience"
      ],
      "metadata": {
        "id": "BCTtjQyMx1ir"
      },
      "execution_count": 30,
      "outputs": []
    },
    {
      "cell_type": "code",
      "source": [
        "nontech1 = NonTechEmployee('Arushi',28,'F','Accounting',4)"
      ],
      "metadata": {
        "colab": {
          "base_uri": "https://localhost:8080/"
        },
        "id": "6ARQyQ8EyfGK",
        "outputId": "0df6ddde-f1bf-4846-ac35-cb93544f3ee0"
      },
      "execution_count": 31,
      "outputs": [
        {
          "output_type": "stream",
          "name": "stdout",
          "text": [
            "Employee Created Successfully!\n"
          ]
        }
      ]
    },
    {
      "cell_type": "code",
      "source": [
        "tech1.experience"
      ],
      "metadata": {
        "colab": {
          "base_uri": "https://localhost:8080/",
          "height": 146
        },
        "id": "edApna8WyrUM",
        "outputId": "dcc0cfdb-cf4e-4c15-be9a-5b7d61883836"
      },
      "execution_count": 32,
      "outputs": [
        {
          "output_type": "error",
          "ename": "AttributeError",
          "evalue": "'TechEmployee' object has no attribute 'experience'",
          "traceback": [
            "\u001b[0;31m---------------------------------------------------------------------------\u001b[0m",
            "\u001b[0;31mAttributeError\u001b[0m                            Traceback (most recent call last)",
            "\u001b[0;32m<ipython-input-32-e86d747e6017>\u001b[0m in \u001b[0;36m<cell line: 1>\u001b[0;34m()\u001b[0m\n\u001b[0;32m----> 1\u001b[0;31m \u001b[0mtech1\u001b[0m\u001b[0;34m.\u001b[0m\u001b[0mexperience\u001b[0m\u001b[0;34m\u001b[0m\u001b[0;34m\u001b[0m\u001b[0m\n\u001b[0m",
            "\u001b[0;31mAttributeError\u001b[0m: 'TechEmployee' object has no attribute 'experience'"
          ]
        }
      ]
    },
    {
      "cell_type": "code",
      "source": [
        "nontech1.experience"
      ],
      "metadata": {
        "colab": {
          "base_uri": "https://localhost:8080/"
        },
        "id": "PYvZv8Qry5Qt",
        "outputId": "bbdd1f6e-7b89-48a2-cae3-83731bb929bb"
      },
      "execution_count": 33,
      "outputs": [
        {
          "output_type": "execute_result",
          "data": {
            "text/plain": [
              "4"
            ]
          },
          "metadata": {},
          "execution_count": 33
        }
      ]
    },
    {
      "cell_type": "code",
      "source": [
        "nontech1.name"
      ],
      "metadata": {
        "colab": {
          "base_uri": "https://localhost:8080/",
          "height": 36
        },
        "id": "7erSef0dy8Hj",
        "outputId": "99b7e663-09f6-4583-fa98-3a5236d7f45b"
      },
      "execution_count": 34,
      "outputs": [
        {
          "output_type": "execute_result",
          "data": {
            "text/plain": [
              "'Arushi'"
            ],
            "application/vnd.google.colaboratory.intrinsic+json": {
              "type": "string"
            }
          },
          "metadata": {},
          "execution_count": 34
        }
      ]
    },
    {
      "cell_type": "code",
      "source": [
        "class TechEmployee(Employee):\n",
        "  def __init__(self, name, age, gender, dept):\n",
        "    super().__init__(name,age, gender, dept)\n",
        "\n",
        "# The above lines acheive the same effect as this:\n",
        "\n",
        "class TechEmployee(Employee):\n",
        "  pass"
      ],
      "metadata": {
        "id": "aVtw_mR8zLew"
      },
      "execution_count": null,
      "outputs": []
    },
    {
      "cell_type": "code",
      "source": [
        "nontech1.get_employee_details()"
      ],
      "metadata": {
        "colab": {
          "base_uri": "https://localhost:8080/"
        },
        "id": "7sHL3b5Q2Vvm",
        "outputId": "cf1e6306-c790-4585-b0ee-c31398c6f74f"
      },
      "execution_count": 35,
      "outputs": [
        {
          "output_type": "stream",
          "name": "stdout",
          "text": [
            "Employee:  Arushi belongs to dept:  Accounting with EmployeeID: 4\n"
          ]
        }
      ]
    },
    {
      "cell_type": "code",
      "source": [
        "class ContractEmployee(Employee):\n",
        "\n",
        "  contractEmpCount = 0\n",
        "\n",
        "  def __init__(self, name, age, gender, dept, experience, contract_months):  # Constructor for my derived class\n",
        "    super().__init__(name, age, gender, dept)\n",
        "    self.experience = experience\n",
        "    self.contract_months = contract_months\n",
        "    self.empId = ContractEmployee.contractEmpCount + 1\n",
        "    ContractEmployee.contractEmpCount += 1\n",
        "\n",
        "  def get_employee_details(self):\n",
        "    print('Contract Employee: ',self.name,'belongs to department: ', self.dept, 'for months:', self.contract_months)\n"
      ],
      "metadata": {
        "id": "Pj-rzVef264O"
      },
      "execution_count": 36,
      "outputs": []
    },
    {
      "cell_type": "code",
      "source": [
        "cemp = ContractEmployee('Anil',25,'M','Logistics',2,11)"
      ],
      "metadata": {
        "colab": {
          "base_uri": "https://localhost:8080/"
        },
        "id": "WF85tRtp3mOs",
        "outputId": "6b7bb691-0af5-4313-b126-6e11b04e672f"
      },
      "execution_count": 37,
      "outputs": [
        {
          "output_type": "stream",
          "name": "stdout",
          "text": [
            "Employee Created Successfully!\n"
          ]
        }
      ]
    },
    {
      "cell_type": "code",
      "source": [
        "cemp.empId"
      ],
      "metadata": {
        "colab": {
          "base_uri": "https://localhost:8080/"
        },
        "id": "gGVBIafV4Fdh",
        "outputId": "05dd9ccf-bb8b-4105-a517-3369666b3ab2"
      },
      "execution_count": 38,
      "outputs": [
        {
          "output_type": "execute_result",
          "data": {
            "text/plain": [
              "1"
            ]
          },
          "metadata": {},
          "execution_count": 38
        }
      ]
    },
    {
      "cell_type": "code",
      "source": [
        "cemp.get_employee_details()"
      ],
      "metadata": {
        "colab": {
          "base_uri": "https://localhost:8080/"
        },
        "id": "te1tbJbr4H1Q",
        "outputId": "1563ed33-3407-49bb-8a3e-4e9934373d57"
      },
      "execution_count": 39,
      "outputs": [
        {
          "output_type": "stream",
          "name": "stdout",
          "text": [
            "Contract Employee:  Anil belongs to department:  Logistics for months: 11\n"
          ]
        }
      ]
    },
    {
      "cell_type": "code",
      "source": [],
      "metadata": {
        "id": "vbGBgxgM4KhX"
      },
      "execution_count": null,
      "outputs": []
    }
  ]
}